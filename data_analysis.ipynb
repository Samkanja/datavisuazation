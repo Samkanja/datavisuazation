{
 "cells": [
  {
   "cell_type": "markdown",
   "id": "4bace7b2",
   "metadata": {},
   "source": [
    "# Statitical Analysis"
   ]
  },
  {
   "cell_type": "code",
   "execution_count": 1,
   "id": "0ce5e163",
   "metadata": {},
   "outputs": [],
   "source": [
    "import pandas as pd\n",
    "import numpy as np\n",
    "import seaborn as sns\n",
    "import matplotlib.pyplot as plt"
   ]
  },
  {
   "cell_type": "code",
   "execution_count": 5,
   "id": "f33b7d5b",
   "metadata": {},
   "outputs": [],
   "source": [
    "Number = [1,2,3,4,5,6,7,8,9,10]\n",
    "Names = ['Ali Ahmed','Mohamed Ziad','Majid Salim','Salwa Ahmed', 'Ahlam Mohamed', 'Omar Ali', 'Amna Mohammed','Khalid Yousif', 'Safa Humaid', 'Amjad Tayel']\n",
    "City = ['Fujairah','Dubai','Sharjah','AbuDhabi','Fujairah','Dubai', 'Sharja ', 'AbuDhabi','Sharjah','Fujairah']\n",
    "columns = ['Number', 'Name', 'City' ]"
   ]
  },
  {
   "cell_type": "code",
   "execution_count": 6,
   "id": "43601d02",
   "metadata": {},
   "outputs": [
    {
     "data": {
      "text/html": [
       "<div>\n",
       "<style scoped>\n",
       "    .dataframe tbody tr th:only-of-type {\n",
       "        vertical-align: middle;\n",
       "    }\n",
       "\n",
       "    .dataframe tbody tr th {\n",
       "        vertical-align: top;\n",
       "    }\n",
       "\n",
       "    .dataframe thead th {\n",
       "        text-align: right;\n",
       "    }\n",
       "</style>\n",
       "<table border=\"1\" class=\"dataframe\">\n",
       "  <thead>\n",
       "    <tr style=\"text-align: right;\">\n",
       "      <th></th>\n",
       "      <th>Number</th>\n",
       "      <th>Name</th>\n",
       "      <th>City</th>\n",
       "      <th>Gender</th>\n",
       "      <th>Height</th>\n",
       "      <th>Weight</th>\n",
       "    </tr>\n",
       "  </thead>\n",
       "  <tbody>\n",
       "    <tr>\n",
       "      <th>0</th>\n",
       "      <td>1</td>\n",
       "      <td>Ali Ahmed</td>\n",
       "      <td>Fujairah</td>\n",
       "      <td>Male</td>\n",
       "      <td>133</td>\n",
       "      <td>75</td>\n",
       "    </tr>\n",
       "    <tr>\n",
       "      <th>1</th>\n",
       "      <td>2</td>\n",
       "      <td>Mohamed Ziad</td>\n",
       "      <td>Dubai</td>\n",
       "      <td>Male</td>\n",
       "      <td>156</td>\n",
       "      <td>94</td>\n",
       "    </tr>\n",
       "    <tr>\n",
       "      <th>2</th>\n",
       "      <td>3</td>\n",
       "      <td>Majid Salim</td>\n",
       "      <td>Sharjah</td>\n",
       "      <td>Male</td>\n",
       "      <td>143</td>\n",
       "      <td>71</td>\n",
       "    </tr>\n",
       "    <tr>\n",
       "      <th>3</th>\n",
       "      <td>4</td>\n",
       "      <td>Salwa Ahmed</td>\n",
       "      <td>AbuDhabi</td>\n",
       "      <td>Female</td>\n",
       "      <td>154</td>\n",
       "      <td>68</td>\n",
       "    </tr>\n",
       "    <tr>\n",
       "      <th>4</th>\n",
       "      <td>5</td>\n",
       "      <td>Ahlam Mohamed</td>\n",
       "      <td>Fujairah</td>\n",
       "      <td>Female</td>\n",
       "      <td>152</td>\n",
       "      <td>89</td>\n",
       "    </tr>\n",
       "    <tr>\n",
       "      <th>5</th>\n",
       "      <td>6</td>\n",
       "      <td>Omar Ali</td>\n",
       "      <td>Dubai</td>\n",
       "      <td>Male</td>\n",
       "      <td>159</td>\n",
       "      <td>105</td>\n",
       "    </tr>\n",
       "    <tr>\n",
       "      <th>6</th>\n",
       "      <td>7</td>\n",
       "      <td>Amna Mohammed</td>\n",
       "      <td>Sharja</td>\n",
       "      <td>Female</td>\n",
       "      <td>132</td>\n",
       "      <td>74</td>\n",
       "    </tr>\n",
       "    <tr>\n",
       "      <th>7</th>\n",
       "      <td>8</td>\n",
       "      <td>Khalid Yousif</td>\n",
       "      <td>AbuDhabi</td>\n",
       "      <td>Male</td>\n",
       "      <td>126</td>\n",
       "      <td>72</td>\n",
       "    </tr>\n",
       "    <tr>\n",
       "      <th>8</th>\n",
       "      <td>9</td>\n",
       "      <td>Safa Humaid</td>\n",
       "      <td>Sharjah</td>\n",
       "      <td>Female</td>\n",
       "      <td>169</td>\n",
       "      <td>67</td>\n",
       "    </tr>\n",
       "    <tr>\n",
       "      <th>9</th>\n",
       "      <td>10</td>\n",
       "      <td>Amjad Tayel</td>\n",
       "      <td>Fujairah</td>\n",
       "      <td>Male</td>\n",
       "      <td>126</td>\n",
       "      <td>84</td>\n",
       "    </tr>\n",
       "  </tbody>\n",
       "</table>\n",
       "</div>"
      ],
      "text/plain": [
       "   Number           Name      City  Gender  Height  Weight\n",
       "0       1      Ali Ahmed  Fujairah    Male     133      75\n",
       "1       2   Mohamed Ziad     Dubai    Male     156      94\n",
       "2       3    Majid Salim   Sharjah    Male     143      71\n",
       "3       4    Salwa Ahmed  AbuDhabi  Female     154      68\n",
       "4       5  Ahlam Mohamed  Fujairah  Female     152      89\n",
       "5       6       Omar Ali     Dubai    Male     159     105\n",
       "6       7  Amna Mohammed   Sharja   Female     132      74\n",
       "7       8  Khalid Yousif  AbuDhabi    Male     126      72\n",
       "8       9    Safa Humaid   Sharjah  Female     169      67\n",
       "9      10    Amjad Tayel  Fujairah    Male     126      84"
      ]
     },
     "execution_count": 6,
     "metadata": {},
     "output_type": "execute_result"
    }
   ],
   "source": [
    "df = pd.DataFrame({'Number':Number,'Name':Names,'City':City},columns=columns)\n",
    "Gender= pd.DataFrame({'Gender':['Male','Male','Male','Female',\n",
    "'Female', 'Male', 'Female', 'Male','Female', 'Male']})\n",
    "Height = pd.DataFrame(np.random.randint(120,175, size=(12, 1)))\n",
    "Weight = pd.DataFrame(np.random.randint(50,110, size=(12, 1)))\n",
    "df['Gender'] = Gender\n",
    "df['Height'] = Height\n",
    "df['Weight'] = Weight\n",
    "df.set_index('Number')\n",
    "df"
   ]
  },
  {
   "cell_type": "code",
   "execution_count": 7,
   "id": "98ef4f64",
   "metadata": {},
   "outputs": [
    {
     "data": {
      "text/html": [
       "<div>\n",
       "<style scoped>\n",
       "    .dataframe tbody tr th:only-of-type {\n",
       "        vertical-align: middle;\n",
       "    }\n",
       "\n",
       "    .dataframe tbody tr th {\n",
       "        vertical-align: top;\n",
       "    }\n",
       "\n",
       "    .dataframe thead th {\n",
       "        text-align: right;\n",
       "    }\n",
       "</style>\n",
       "<table border=\"1\" class=\"dataframe\">\n",
       "  <thead>\n",
       "    <tr style=\"text-align: right;\">\n",
       "      <th></th>\n",
       "      <th>Number</th>\n",
       "      <th>Height</th>\n",
       "      <th>Weight</th>\n",
       "    </tr>\n",
       "  </thead>\n",
       "  <tbody>\n",
       "    <tr>\n",
       "      <th>count</th>\n",
       "      <td>10.00000</td>\n",
       "      <td>10.000000</td>\n",
       "      <td>10.000000</td>\n",
       "    </tr>\n",
       "    <tr>\n",
       "      <th>mean</th>\n",
       "      <td>5.50000</td>\n",
       "      <td>145.000000</td>\n",
       "      <td>79.900000</td>\n",
       "    </tr>\n",
       "    <tr>\n",
       "      <th>std</th>\n",
       "      <td>3.02765</td>\n",
       "      <td>15.136417</td>\n",
       "      <td>12.635488</td>\n",
       "    </tr>\n",
       "    <tr>\n",
       "      <th>min</th>\n",
       "      <td>1.00000</td>\n",
       "      <td>126.000000</td>\n",
       "      <td>67.000000</td>\n",
       "    </tr>\n",
       "    <tr>\n",
       "      <th>25%</th>\n",
       "      <td>3.25000</td>\n",
       "      <td>132.250000</td>\n",
       "      <td>71.250000</td>\n",
       "    </tr>\n",
       "    <tr>\n",
       "      <th>50%</th>\n",
       "      <td>5.50000</td>\n",
       "      <td>147.500000</td>\n",
       "      <td>74.500000</td>\n",
       "    </tr>\n",
       "    <tr>\n",
       "      <th>75%</th>\n",
       "      <td>7.75000</td>\n",
       "      <td>155.500000</td>\n",
       "      <td>87.750000</td>\n",
       "    </tr>\n",
       "    <tr>\n",
       "      <th>max</th>\n",
       "      <td>10.00000</td>\n",
       "      <td>169.000000</td>\n",
       "      <td>105.000000</td>\n",
       "    </tr>\n",
       "  </tbody>\n",
       "</table>\n",
       "</div>"
      ],
      "text/plain": [
       "         Number      Height      Weight\n",
       "count  10.00000   10.000000   10.000000\n",
       "mean    5.50000  145.000000   79.900000\n",
       "std     3.02765   15.136417   12.635488\n",
       "min     1.00000  126.000000   67.000000\n",
       "25%     3.25000  132.250000   71.250000\n",
       "50%     5.50000  147.500000   74.500000\n",
       "75%     7.75000  155.500000   87.750000\n",
       "max    10.00000  169.000000  105.000000"
      ]
     },
     "execution_count": 7,
     "metadata": {},
     "output_type": "execute_result"
    }
   ],
   "source": [
    "df.describe()"
   ]
  },
  {
   "cell_type": "code",
   "execution_count": 8,
   "id": "984241b5",
   "metadata": {},
   "outputs": [
    {
     "name": "stderr",
     "output_type": "stream",
     "text": [
      "/tmp/ipykernel_6020/1134722465.py:1: FutureWarning: The default value of numeric_only in DataFrame.corr is deprecated. In a future version, it will default to False. Select only valid columns or specify the value of numeric_only to silence this warning.\n",
      "  df.corr()\n"
     ]
    },
    {
     "data": {
      "text/html": [
       "<div>\n",
       "<style scoped>\n",
       "    .dataframe tbody tr th:only-of-type {\n",
       "        vertical-align: middle;\n",
       "    }\n",
       "\n",
       "    .dataframe tbody tr th {\n",
       "        vertical-align: top;\n",
       "    }\n",
       "\n",
       "    .dataframe thead th {\n",
       "        text-align: right;\n",
       "    }\n",
       "</style>\n",
       "<table border=\"1\" class=\"dataframe\">\n",
       "  <thead>\n",
       "    <tr style=\"text-align: right;\">\n",
       "      <th></th>\n",
       "      <th>Number</th>\n",
       "      <th>Height</th>\n",
       "      <th>Weight</th>\n",
       "    </tr>\n",
       "  </thead>\n",
       "  <tbody>\n",
       "    <tr>\n",
       "      <th>Number</th>\n",
       "      <td>1.000000</td>\n",
       "      <td>-0.140623</td>\n",
       "      <td>-0.100203</td>\n",
       "    </tr>\n",
       "    <tr>\n",
       "      <th>Height</th>\n",
       "      <td>-0.140623</td>\n",
       "      <td>1.000000</td>\n",
       "      <td>0.220182</td>\n",
       "    </tr>\n",
       "    <tr>\n",
       "      <th>Weight</th>\n",
       "      <td>-0.100203</td>\n",
       "      <td>0.220182</td>\n",
       "      <td>1.000000</td>\n",
       "    </tr>\n",
       "  </tbody>\n",
       "</table>\n",
       "</div>"
      ],
      "text/plain": [
       "          Number    Height    Weight\n",
       "Number  1.000000 -0.140623 -0.100203\n",
       "Height -0.140623  1.000000  0.220182\n",
       "Weight -0.100203  0.220182  1.000000"
      ]
     },
     "execution_count": 8,
     "metadata": {},
     "output_type": "execute_result"
    }
   ],
   "source": [
    "df.corr()"
   ]
  },
  {
   "cell_type": "code",
   "execution_count": 9,
   "id": "700ad2d0",
   "metadata": {},
   "outputs": [
    {
     "data": {
      "text/plain": [
       "Number             10\n",
       "Name      Salwa Ahmed\n",
       "City          Sharjah\n",
       "Gender           Male\n",
       "Height            169\n",
       "Weight            105\n",
       "dtype: object"
      ]
     },
     "execution_count": 9,
     "metadata": {},
     "output_type": "execute_result"
    }
   ],
   "source": [
    "df.max()"
   ]
  },
  {
   "cell_type": "code",
   "execution_count": 10,
   "id": "316fc19b",
   "metadata": {},
   "outputs": [
    {
     "name": "stderr",
     "output_type": "stream",
     "text": [
      "/tmp/ipykernel_6020/530051474.py:1: FutureWarning: The default value of numeric_only in DataFrame.median is deprecated. In a future version, it will default to False. In addition, specifying 'numeric_only=None' is deprecated. Select only valid columns or specify the value of numeric_only to silence this warning.\n",
      "  df.median()\n"
     ]
    },
    {
     "data": {
      "text/plain": [
       "Number      5.5\n",
       "Height    147.5\n",
       "Weight     74.5\n",
       "dtype: float64"
      ]
     },
     "execution_count": 10,
     "metadata": {},
     "output_type": "execute_result"
    }
   ],
   "source": [
    "df.median()"
   ]
  },
  {
   "cell_type": "code",
   "execution_count": 11,
   "id": "fb7d565a",
   "metadata": {},
   "outputs": [
    {
     "data": {
      "text/plain": [
       "<pandas.core.groupby.generic.DataFrameGroupBy object at 0x7f14a41a6d40>"
      ]
     },
     "execution_count": 11,
     "metadata": {},
     "output_type": "execute_result"
    }
   ],
   "source": [
    "df.groupby('City')"
   ]
  },
  {
   "cell_type": "code",
   "execution_count": 12,
   "id": "e26541c6",
   "metadata": {},
   "outputs": [
    {
     "data": {
      "text/plain": [
       "<pandas.core.groupby.generic.SeriesGroupBy object at 0x7f14a41a7490>"
      ]
     },
     "execution_count": 12,
     "metadata": {},
     "output_type": "execute_result"
    }
   ],
   "source": [
    "df.groupby('City')['Gender']"
   ]
  },
  {
   "cell_type": "code",
   "execution_count": 13,
   "id": "1c352e3a",
   "metadata": {},
   "outputs": [
    {
     "data": {
      "text/plain": [
       "City\n",
       "AbuDhabi    2\n",
       "Dubai       2\n",
       "Fujairah    3\n",
       "Sharja      1\n",
       "Sharjah     2\n",
       "Name: Gender, dtype: int64"
      ]
     },
     "execution_count": 13,
     "metadata": {},
     "output_type": "execute_result"
    }
   ],
   "source": [
    "df.groupby('City')['Gender'].count()"
   ]
  },
  {
   "cell_type": "code",
   "execution_count": 14,
   "id": "d03e0fdb",
   "metadata": {},
   "outputs": [
    {
     "ename": "TypeError",
     "evalue": "'PrettyDict' object is not callable",
     "output_type": "error",
     "traceback": [
      "\u001b[0;31m---------------------------------------------------------------------------\u001b[0m",
      "\u001b[0;31mTypeError\u001b[0m                                 Traceback (most recent call last)",
      "Cell \u001b[0;32mIn[14], line 1\u001b[0m\n\u001b[0;32m----> 1\u001b[0m \u001b[43mdf\u001b[49m\u001b[38;5;241;43m.\u001b[39;49m\u001b[43mgroupby\u001b[49m\u001b[43m(\u001b[49m\u001b[38;5;124;43m'\u001b[39;49m\u001b[38;5;124;43mCity\u001b[39;49m\u001b[38;5;124;43m'\u001b[39;49m\u001b[43m)\u001b[49m\u001b[38;5;241;43m.\u001b[39;49m\u001b[43mgroups\u001b[49m\u001b[43m(\u001b[49m\u001b[43m)\u001b[49m\n",
      "\u001b[0;31mTypeError\u001b[0m: 'PrettyDict' object is not callable"
     ]
    }
   ],
   "source": [
    "df.groupby('City').groups()"
   ]
  },
  {
   "cell_type": "code",
   "execution_count": 16,
   "id": "cab60c77",
   "metadata": {},
   "outputs": [
    {
     "data": {
      "text/plain": [
       "{'AbuDhabi': [3, 7], 'Dubai': [1, 5], 'Fujairah': [0, 4, 9], 'Sharja ': [6], 'Sharjah': [2, 8]}"
      ]
     },
     "execution_count": 16,
     "metadata": {},
     "output_type": "execute_result"
    }
   ],
   "source": [
    "df.groupby('City').groups"
   ]
  },
  {
   "cell_type": "code",
   "execution_count": 17,
   "id": "dd59b65d",
   "metadata": {},
   "outputs": [
    {
     "data": {
      "text/plain": [
       "{('AbuDhabi', 'Female'): [3], ('AbuDhabi', 'Male'): [7], ('Dubai', 'Male'): [1, 5], ('Fujairah', 'Female'): [4], ('Fujairah', 'Male'): [0, 9], ('Sharja ', 'Female'): [6], ('Sharjah', 'Female'): [8], ('Sharjah', 'Male'): [2]}"
      ]
     },
     "execution_count": 17,
     "metadata": {},
     "output_type": "execute_result"
    }
   ],
   "source": [
    "df.groupby(['City','Gender']).groups"
   ]
  },
  {
   "cell_type": "code",
   "execution_count": 18,
   "id": "97b609f5",
   "metadata": {},
   "outputs": [
    {
     "data": {
      "text/plain": [
       "<pandas.core.groupby.generic.DataFrameGroupBy object at 0x7f14a41a6fb0>"
      ]
     },
     "execution_count": 18,
     "metadata": {},
     "output_type": "execute_result"
    }
   ],
   "source": [
    "group = df.groupby('Gender')\n",
    "group"
   ]
  },
  {
   "cell_type": "code",
   "execution_count": 19,
   "id": "0c4038b6",
   "metadata": {},
   "outputs": [
    {
     "name": "stdout",
     "output_type": "stream",
     "text": [
      "Female\n",
      "   Number           Name      City  Gender  Height  Weight\n",
      "3       4    Salwa Ahmed  AbuDhabi  Female     154      68\n",
      "4       5  Ahlam Mohamed  Fujairah  Female     152      89\n",
      "6       7  Amna Mohammed   Sharja   Female     132      74\n",
      "8       9    Safa Humaid   Sharjah  Female     169      67\n",
      "Male\n",
      "   Number           Name      City Gender  Height  Weight\n",
      "0       1      Ali Ahmed  Fujairah   Male     133      75\n",
      "1       2   Mohamed Ziad     Dubai   Male     156      94\n",
      "2       3    Majid Salim   Sharjah   Male     143      71\n",
      "5       6       Omar Ali     Dubai   Male     159     105\n",
      "7       8  Khalid Yousif  AbuDhabi   Male     126      72\n",
      "9      10    Amjad Tayel  Fujairah   Male     126      84\n"
     ]
    }
   ],
   "source": [
    "for name, groupy in group:\n",
    "    print(name)\n",
    "    print(groupy)"
   ]
  },
  {
   "cell_type": "code",
   "execution_count": 20,
   "id": "52059be3",
   "metadata": {},
   "outputs": [
    {
     "data": {
      "text/html": [
       "<div>\n",
       "<style scoped>\n",
       "    .dataframe tbody tr th:only-of-type {\n",
       "        vertical-align: middle;\n",
       "    }\n",
       "\n",
       "    .dataframe tbody tr th {\n",
       "        vertical-align: top;\n",
       "    }\n",
       "\n",
       "    .dataframe thead th {\n",
       "        text-align: right;\n",
       "    }\n",
       "</style>\n",
       "<table border=\"1\" class=\"dataframe\">\n",
       "  <thead>\n",
       "    <tr style=\"text-align: right;\">\n",
       "      <th></th>\n",
       "      <th>Number</th>\n",
       "      <th>Name</th>\n",
       "      <th>City</th>\n",
       "      <th>Gender</th>\n",
       "      <th>Height</th>\n",
       "      <th>Weight</th>\n",
       "    </tr>\n",
       "  </thead>\n",
       "  <tbody>\n",
       "    <tr>\n",
       "      <th>3</th>\n",
       "      <td>4</td>\n",
       "      <td>Salwa Ahmed</td>\n",
       "      <td>AbuDhabi</td>\n",
       "      <td>Female</td>\n",
       "      <td>154</td>\n",
       "      <td>68</td>\n",
       "    </tr>\n",
       "    <tr>\n",
       "      <th>4</th>\n",
       "      <td>5</td>\n",
       "      <td>Ahlam Mohamed</td>\n",
       "      <td>Fujairah</td>\n",
       "      <td>Female</td>\n",
       "      <td>152</td>\n",
       "      <td>89</td>\n",
       "    </tr>\n",
       "    <tr>\n",
       "      <th>6</th>\n",
       "      <td>7</td>\n",
       "      <td>Amna Mohammed</td>\n",
       "      <td>Sharja</td>\n",
       "      <td>Female</td>\n",
       "      <td>132</td>\n",
       "      <td>74</td>\n",
       "    </tr>\n",
       "    <tr>\n",
       "      <th>8</th>\n",
       "      <td>9</td>\n",
       "      <td>Safa Humaid</td>\n",
       "      <td>Sharjah</td>\n",
       "      <td>Female</td>\n",
       "      <td>169</td>\n",
       "      <td>67</td>\n",
       "    </tr>\n",
       "  </tbody>\n",
       "</table>\n",
       "</div>"
      ],
      "text/plain": [
       "   Number           Name      City  Gender  Height  Weight\n",
       "3       4    Salwa Ahmed  AbuDhabi  Female     154      68\n",
       "4       5  Ahlam Mohamed  Fujairah  Female     152      89\n",
       "6       7  Amna Mohammed   Sharja   Female     132      74\n",
       "8       9    Safa Humaid   Sharjah  Female     169      67"
      ]
     },
     "execution_count": 20,
     "metadata": {},
     "output_type": "execute_result"
    }
   ],
   "source": [
    "group.get_group('Female')"
   ]
  },
  {
   "cell_type": "code",
   "execution_count": 22,
   "id": "20a6d408",
   "metadata": {},
   "outputs": [],
   "source": [
    "grouped = df.groupby('Gender').groups"
   ]
  },
  {
   "cell_type": "code",
   "execution_count": 23,
   "id": "e55d840a",
   "metadata": {},
   "outputs": [
    {
     "data": {
      "text/plain": [
       "{'Female': [3, 4, 6, 8], 'Male': [0, 1, 2, 5, 7, 9]}"
      ]
     },
     "execution_count": 23,
     "metadata": {},
     "output_type": "execute_result"
    }
   ],
   "source": [
    "grouped"
   ]
  },
  {
   "cell_type": "code",
   "execution_count": 27,
   "id": "3f5e852d",
   "metadata": {},
   "outputs": [
    {
     "data": {
      "text/plain": [
       "<pandas.core.groupby.generic.DataFrameGroupBy object at 0x7f14a27b2290>"
      ]
     },
     "execution_count": 27,
     "metadata": {},
     "output_type": "execute_result"
    }
   ],
   "source": [
    "grouped = df.groupby('Gender')\n",
    "grouped"
   ]
  },
  {
   "cell_type": "code",
   "execution_count": 28,
   "id": "eb7e8b59",
   "metadata": {},
   "outputs": [
    {
     "data": {
      "text/plain": [
       "<pandas.core.groupby.generic.SeriesGroupBy object at 0x7f14a27b1480>"
      ]
     },
     "execution_count": 28,
     "metadata": {},
     "output_type": "execute_result"
    }
   ],
   "source": [
    "grouped['Height']"
   ]
  },
  {
   "cell_type": "code",
   "execution_count": null,
   "id": "245dcb4d",
   "metadata": {},
   "outputs": [],
   "source": [
    "## Aggregation"
   ]
  },
  {
   "cell_type": "code",
   "execution_count": 33,
   "id": "dfa20b85",
   "metadata": {},
   "outputs": [
    {
     "data": {
      "text/plain": [
       "Gender\n",
       "Female    151.75\n",
       "Male      140.50\n",
       "Name: Height, dtype: float64"
      ]
     },
     "execution_count": 33,
     "metadata": {},
     "output_type": "execute_result"
    }
   ],
   "source": [
    "grouped['Height'].agg(np.mean)"
   ]
  },
  {
   "cell_type": "code",
   "execution_count": 34,
   "id": "060a9835",
   "metadata": {},
   "outputs": [
    {
     "data": {
      "text/plain": [
       "Gender\n",
       "Female    71.0\n",
       "Male      79.5\n",
       "Name: Weight, dtype: float64"
      ]
     },
     "execution_count": 34,
     "metadata": {},
     "output_type": "execute_result"
    }
   ],
   "source": [
    "grouped['Weight'].agg(np.median)"
   ]
  },
  {
   "cell_type": "code",
   "execution_count": 35,
   "id": "4f936088",
   "metadata": {},
   "outputs": [
    {
     "data": {
      "text/html": [
       "<div>\n",
       "<style scoped>\n",
       "    .dataframe tbody tr th:only-of-type {\n",
       "        vertical-align: middle;\n",
       "    }\n",
       "\n",
       "    .dataframe tbody tr th {\n",
       "        vertical-align: top;\n",
       "    }\n",
       "\n",
       "    .dataframe thead th {\n",
       "        text-align: right;\n",
       "    }\n",
       "</style>\n",
       "<table border=\"1\" class=\"dataframe\">\n",
       "  <thead>\n",
       "    <tr style=\"text-align: right;\">\n",
       "      <th></th>\n",
       "      <th>Number</th>\n",
       "      <th>Name</th>\n",
       "      <th>City</th>\n",
       "      <th>Height</th>\n",
       "      <th>Weight</th>\n",
       "    </tr>\n",
       "    <tr>\n",
       "      <th>Gender</th>\n",
       "      <th></th>\n",
       "      <th></th>\n",
       "      <th></th>\n",
       "      <th></th>\n",
       "      <th></th>\n",
       "    </tr>\n",
       "  </thead>\n",
       "  <tbody>\n",
       "    <tr>\n",
       "      <th>Female</th>\n",
       "      <td>4</td>\n",
       "      <td>4</td>\n",
       "      <td>4</td>\n",
       "      <td>4</td>\n",
       "      <td>4</td>\n",
       "    </tr>\n",
       "    <tr>\n",
       "      <th>Male</th>\n",
       "      <td>6</td>\n",
       "      <td>6</td>\n",
       "      <td>6</td>\n",
       "      <td>6</td>\n",
       "      <td>6</td>\n",
       "    </tr>\n",
       "  </tbody>\n",
       "</table>\n",
       "</div>"
      ],
      "text/plain": [
       "        Number  Name  City  Height  Weight\n",
       "Gender                                    \n",
       "Female       4     4     4       4       4\n",
       "Male         6     6     6       6       6"
      ]
     },
     "execution_count": 35,
     "metadata": {},
     "output_type": "execute_result"
    }
   ],
   "source": [
    "grouped.agg(np.size)"
   ]
  },
  {
   "cell_type": "code",
   "execution_count": 36,
   "id": "8269f525",
   "metadata": {},
   "outputs": [
    {
     "data": {
      "text/html": [
       "<div>\n",
       "<style scoped>\n",
       "    .dataframe tbody tr th:only-of-type {\n",
       "        vertical-align: middle;\n",
       "    }\n",
       "\n",
       "    .dataframe tbody tr th {\n",
       "        vertical-align: top;\n",
       "    }\n",
       "\n",
       "    .dataframe thead th {\n",
       "        text-align: right;\n",
       "    }\n",
       "</style>\n",
       "<table border=\"1\" class=\"dataframe\">\n",
       "  <thead>\n",
       "    <tr style=\"text-align: right;\">\n",
       "      <th></th>\n",
       "      <th>mean</th>\n",
       "      <th>std</th>\n",
       "      <th>median</th>\n",
       "    </tr>\n",
       "    <tr>\n",
       "      <th>Gender</th>\n",
       "      <th></th>\n",
       "      <th></th>\n",
       "      <th></th>\n",
       "    </tr>\n",
       "  </thead>\n",
       "  <tbody>\n",
       "    <tr>\n",
       "      <th>Female</th>\n",
       "      <td>151.75</td>\n",
       "      <td>15.195942</td>\n",
       "      <td>153.0</td>\n",
       "    </tr>\n",
       "    <tr>\n",
       "      <th>Male</th>\n",
       "      <td>140.50</td>\n",
       "      <td>14.597945</td>\n",
       "      <td>138.0</td>\n",
       "    </tr>\n",
       "  </tbody>\n",
       "</table>\n",
       "</div>"
      ],
      "text/plain": [
       "          mean        std  median\n",
       "Gender                           \n",
       "Female  151.75  15.195942   153.0\n",
       "Male    140.50  14.597945   138.0"
      ]
     },
     "execution_count": 36,
     "metadata": {},
     "output_type": "execute_result"
    }
   ],
   "source": [
    "grouped['Height'].agg([np.mean,np.std,np.median])"
   ]
  },
  {
   "cell_type": "markdown",
   "id": "33d85705",
   "metadata": {},
   "source": [
    "## Transformation"
   ]
  },
  {
   "cell_type": "code",
   "execution_count": null,
   "id": "9407a399",
   "metadata": {},
   "outputs": [],
   "source": []
  }
 ],
 "metadata": {
  "kernelspec": {
   "display_name": "env",
   "language": "python",
   "name": "env"
  },
  "language_info": {
   "codemirror_mode": {
    "name": "ipython",
    "version": 3
   },
   "file_extension": ".py",
   "mimetype": "text/x-python",
   "name": "python",
   "nbconvert_exporter": "python",
   "pygments_lexer": "ipython3",
   "version": "3.10.6"
  }
 },
 "nbformat": 4,
 "nbformat_minor": 5
}
